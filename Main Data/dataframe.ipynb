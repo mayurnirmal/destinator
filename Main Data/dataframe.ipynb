{
 "cells": [
  {
   "cell_type": "code",
   "execution_count": 1,
   "metadata": {},
   "outputs": [],
   "source": [
    "import pandas as pd"
   ]
  },
  {
   "cell_type": "code",
   "execution_count": 2,
   "metadata": {},
   "outputs": [],
   "source": [
    "df = pd.read_excel('cleaned_file.xlsx')"
   ]
  },
  {
   "cell_type": "code",
   "execution_count": 3,
   "metadata": {},
   "outputs": [
    {
     "data": {
      "text/plain": [
       "Index(['Place ID', 'Visit Link', 'Place Name', 'Image Link', 'Description',\n",
       "       'Package', 'Rating', 'Best time', 'city', 'state', 'Predicted_Tag'],\n",
       "      dtype='object')"
      ]
     },
     "execution_count": 3,
     "metadata": {},
     "output_type": "execute_result"
    }
   ],
   "source": [
    "df.columns"
   ]
  },
  {
   "cell_type": "code",
   "execution_count": 4,
   "metadata": {},
   "outputs": [
    {
     "data": {
      "text/plain": [
       "array(['Monument', 'Temple', 'Tombs & Mausoleums', 'Mosque',\n",
       "       'Garden & Park', 'Planetarium', 'Forts & Palaces',\n",
       "       'Commercial Street', 'Zoo', 'Museum', 'Art Gallery',\n",
       "       'Historical Site', 'Amusement & Theme Park', 'Fairs & Festivals',\n",
       "       'Shopping Market', 'Cultural Village', 'Wildlife',\n",
       "       'Adventure Zone', 'Nature', 'Beach', 'Lighthouse', 'Waterfront',\n",
       "       'Boating & Cruises', 'Lake', 'Island', 'Bridge', 'Bird Sanctuary',\n",
       "       'Aquarium', 'Local Experience', 'Buddhist Temple',\n",
       "       'Church & Cathedral', 'Hills & Valleys', 'Gurudwara',\n",
       "       'Religious Pond', 'Cave', 'Cemetery'], dtype=object)"
      ]
     },
     "execution_count": 4,
     "metadata": {},
     "output_type": "execute_result"
    }
   ],
   "source": [
    "df['Predicted_Tag'].unique()"
   ]
  },
  {
   "cell_type": "code",
   "execution_count": 5,
   "metadata": {},
   "outputs": [
    {
     "data": {
      "text/plain": [
       "array(['India Gate', 'Red Fort', 'Qutub Minar', ...,\n",
       "       'The Eastern Gateway', 'Udaygiri Caves', 'Sanchi Museum'],\n",
       "      dtype=object)"
      ]
     },
     "execution_count": 5,
     "metadata": {},
     "output_type": "execute_result"
    }
   ],
   "source": [
    "df['Place Name'].unique()"
   ]
  },
  {
   "cell_type": "code",
   "execution_count": null,
   "metadata": {},
   "outputs": [],
   "source": []
  }
 ],
 "metadata": {
  "kernelspec": {
   "display_name": "Python 3",
   "language": "python",
   "name": "python3"
  },
  "language_info": {
   "codemirror_mode": {
    "name": "ipython",
    "version": 3
   },
   "file_extension": ".py",
   "mimetype": "text/x-python",
   "name": "python",
   "nbconvert_exporter": "python",
   "pygments_lexer": "ipython3",
   "version": "3.12.5"
  }
 },
 "nbformat": 4,
 "nbformat_minor": 2
}
